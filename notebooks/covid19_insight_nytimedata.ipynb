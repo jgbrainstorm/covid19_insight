{
 "cells": [
  {
   "cell_type": "markdown",
   "metadata": {},
   "source": [
    "# Welcome to the COVID-19 data insight\n",
    "\n",
    "\n",
    "- The purpose of this site is to provide some additional/complementary visualization that are not typically shown by other covid-19 sites. \n",
    "- The data used in this site is from [NY Times COVID-19 data](https://github.com/nytimes/covid-19-data)\n",
    "- Please send your comments and suggestions to: [jianganghao@gmail.com](jianganghao@gmail.com)\n",
    "\n",
    "\n",
    "---"
   ]
  },
  {
   "cell_type": "code",
   "execution_count": 3,
   "metadata": {},
   "outputs": [
    {
     "data": {
      "text/html": [
       "        <script type=\"text/javascript\">\n",
       "        window.PlotlyConfig = {MathJaxConfig: 'local'};\n",
       "        if (window.MathJax) {MathJax.Hub.Config({SVG: {font: \"STIX-Web\"}});}\n",
       "        if (typeof require !== 'undefined') {\n",
       "        require.undef(\"plotly\");\n",
       "        requirejs.config({\n",
       "            paths: {\n",
       "                'plotly': ['https://cdn.plot.ly/plotly-latest.min']\n",
       "            }\n",
       "        });\n",
       "        require(['plotly'], function(Plotly) {\n",
       "            window._Plotly = Plotly;\n",
       "        });\n",
       "        }\n",
       "        </script>\n",
       "        "
      ]
     },
     "metadata": {},
     "output_type": "display_data"
    }
   ],
   "source": [
    "import pandas as pd\n",
    "import plotly.express as px\n",
    "import cufflinks as cf\n",
    "from ipywidgets import interact, fixed, widgets, Layout\n",
    "from plotly.subplots import make_subplots\n",
    "from IPython.display import display\n",
    "cf.go_offline()\n",
    "cf.getThemes()\n",
    "cf.set_config_file(theme='space')"
   ]
  },
  {
   "cell_type": "code",
   "execution_count": 4,
   "metadata": {},
   "outputs": [],
   "source": [
    "# data from NY times github\n",
    "df = pd.read_csv('https://raw.githubusercontent.com/nytimes/covid-19-data/master/us-counties.csv')\n",
    "dft = df.pivot_table(values='cases', index='date',columns='state',aggfunc='sum')\n"
   ]
  },
  {
   "cell_type": "code",
   "execution_count": 5,
   "metadata": {},
   "outputs": [],
   "source": [
    "date_list = dft.index.tolist()\n",
    "initial_date = widgets.SelectionSlider(options=[dt for dt in date_list], value='2020-06-01', \\\n",
    "                                       description='Starting', disabled=False, continuous_update=False\\\n",
    "                                       , orientation='horizontal', readout=True,layout=Layout(width='30%', height='40px'))\n",
    "ending_date = widgets.SelectionSlider(options=[dt for dt in date_list], value='2020-06-15', \\\n",
    "                                       description='Ending', disabled=False, continuous_update=False\\\n",
    "                                       , orientation='horizontal', readout=True,layout=Layout(width='30%', height='40px'))"
   ]
  },
  {
   "cell_type": "markdown",
   "metadata": {},
   "source": [
    "### The following plots display the average \"acceleration\" of the new cases among consecutive days\n",
    "- Top panel shows the average acceleration for each state\n",
    "- Bottom panel shows the epi-curve for states with positive acceleration (increase) and negative acceleration (decrease)"
   ]
  },
  {
   "cell_type": "code",
   "execution_count": 10,
   "metadata": {},
   "outputs": [
    {
     "data": {
      "application/vnd.jupyter.widget-view+json": {
       "model_id": "bad4c1fabd61443cbcec27187ec802c7",
       "version_major": 2,
       "version_minor": 0
      },
      "text/plain": [
       "interactive(children=(SelectionSlider(continuous_update=False, description='Starting', index=132, layout=Layou…"
      ]
     },
     "metadata": {},
     "output_type": "display_data"
    }
   ],
   "source": [
    "def acceleration_plot(ini_date,end_date,df):\n",
    "    res=display(res=df.rolling(7).mean().loc[(df.index>=ini_date)&(df.index<= end_date),:].diff().diff().mean()\\\n",
    "    .iplot(kind='bar',yTitle='mean acceleration of new cases'\\\n",
    "           ,title='Between '+ini_date+' and '+end_date+', using 7 day rolling average',colorscale='accent',hline=0))   \n",
    "    state_pos = dft.rolling(7).mean().loc[(dft.index>=ini_date)&(dft.index <= end_date),:].diff().diff().mean()[dft.loc[(dft.index>=ini_date)&(dft.index <= end_date),:].rolling(7).mean().diff().diff().mean()>=0].index.tolist()\n",
    "    state_neg = dft.rolling(7).mean().loc[(dft.index>=ini_date)&(dft.index <= end_date),:].diff().diff().mean()[dft.loc[(dft.index>=ini_date)&(dft.index <= end_date),:].rolling(7).mean().diff().diff().mean()<0].index.tolist()\n",
    "    df_pos = pd.DataFrame(dft.loc[:,state_pos].sum(axis=1).rolling(7).mean().diff())\n",
    "    df_pos.columns = ['increase_state']\n",
    "    df_neg = pd.DataFrame(dft.loc[:,state_neg].sum(axis=1).rolling(7).mean().diff())\n",
    "    df_neg.columns = ['decrease_state']\n",
    "    df_state = pd.merge(df_pos,df_neg,on='date')\n",
    "    res=display(res=df_state.iplot(kind='bar',title='States with increase and decrease new COVID-19 cases', yTitle='Number of new cases'))\n",
    "    return \n",
    "res = interact(acceleration_plot,ini_date=initial_date,end_date=ending_date,df=fixed(dft))"
   ]
  },
  {
   "cell_type": "markdown",
   "metadata": {},
   "source": [
    "### The following plot shows the epi-curve for each state"
   ]
  },
  {
   "cell_type": "code",
   "execution_count": 11,
   "metadata": {},
   "outputs": [
    {
     "data": {
      "application/vnd.jupyter.widget-view+json": {
       "model_id": "0b8007425d544387b498299956a8c56a",
       "version_major": 2,
       "version_minor": 0
      },
      "text/plain": [
       "interactive(children=(SelectionSlider(continuous_update=False, description='Choose:', index=31, layout=Layout(…"
      ]
     },
     "metadata": {},
     "output_type": "display_data"
    }
   ],
   "source": [
    "\n",
    "def epc(df,state):\n",
    "    df.loc[:,state].iplot(kind='bar',yTitle='Number of new cases',title='epi-curve by state')\n",
    "    return\n",
    "\n",
    "states = df.state.unique().tolist()\n",
    "states.sort()\n",
    "state_list = widgets.SelectionSlider(options=[st for st in states], value='New Jersey', \\\n",
    "                                       description='Choose:', disabled=False, continuous_update=False\\\n",
    "                                       , orientation='horizontal', readout=True,layout=Layout(width='30%', height='40px'))\n",
    "res = interact(epc,df=fixed(dft.rolling(7).mean().diff()),state=state_list)\n",
    "    "
   ]
  },
  {
   "cell_type": "code",
   "execution_count": null,
   "metadata": {},
   "outputs": [],
   "source": []
  }
 ],
 "metadata": {
  "kernelspec": {
   "display_name": "Python 3",
   "language": "python",
   "name": "python3"
  },
  "language_info": {
   "codemirror_mode": {
    "name": "ipython",
    "version": 3
   },
   "file_extension": ".py",
   "mimetype": "text/x-python",
   "name": "python",
   "nbconvert_exporter": "python",
   "pygments_lexer": "ipython3",
   "version": "3.7.7"
  }
 },
 "nbformat": 4,
 "nbformat_minor": 2
}
